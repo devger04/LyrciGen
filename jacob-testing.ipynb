{
 "cells": [
  {
   "cell_type": "code",
   "execution_count": 2,
   "id": "8287ced5-b426-4f1d-971d-3d470712da90",
   "metadata": {},
   "outputs": [
    {
     "name": "stdout",
     "output_type": "stream",
     "text": [
      "Requirement already satisfied: torch in /opt/anaconda3/envs/cs589/lib/python3.10/site-packages (2.2.2)\n",
      "Requirement already satisfied: filelock in /opt/anaconda3/envs/cs589/lib/python3.10/site-packages (from torch) (3.16.1)\n",
      "Requirement already satisfied: typing-extensions>=4.8.0 in /opt/anaconda3/envs/cs589/lib/python3.10/site-packages (from torch) (4.12.2)\n",
      "Requirement already satisfied: sympy in /opt/anaconda3/envs/cs589/lib/python3.10/site-packages (from torch) (1.13.3)\n",
      "Requirement already satisfied: networkx in /opt/anaconda3/envs/cs589/lib/python3.10/site-packages (from torch) (3.4.2)\n",
      "Requirement already satisfied: jinja2 in /opt/anaconda3/envs/cs589/lib/python3.10/site-packages (from torch) (3.1.4)\n",
      "Requirement already satisfied: fsspec in /opt/anaconda3/envs/cs589/lib/python3.10/site-packages (from torch) (2024.10.0)\n",
      "Requirement already satisfied: MarkupSafe>=2.0 in /opt/anaconda3/envs/cs589/lib/python3.10/site-packages (from jinja2->torch) (2.1.5)\n",
      "Requirement already satisfied: mpmath<1.4,>=1.1.0 in /opt/anaconda3/envs/cs589/lib/python3.10/site-packages (from sympy->torch) (1.3.0)\n",
      "Requirement already satisfied: transformers in /opt/anaconda3/envs/cs589/lib/python3.10/site-packages (4.46.3)\n",
      "Requirement already satisfied: filelock in /opt/anaconda3/envs/cs589/lib/python3.10/site-packages (from transformers) (3.16.1)\n",
      "Requirement already satisfied: huggingface-hub<1.0,>=0.23.2 in /opt/anaconda3/envs/cs589/lib/python3.10/site-packages (from transformers) (0.26.2)\n",
      "Requirement already satisfied: numpy>=1.17 in /opt/anaconda3/envs/cs589/lib/python3.10/site-packages (from transformers) (1.26.4)\n",
      "Requirement already satisfied: packaging>=20.0 in /opt/anaconda3/envs/cs589/lib/python3.10/site-packages (from transformers) (23.2)\n",
      "Requirement already satisfied: pyyaml>=5.1 in /opt/anaconda3/envs/cs589/lib/python3.10/site-packages (from transformers) (6.0.1)\n",
      "Requirement already satisfied: regex!=2019.12.17 in /opt/anaconda3/envs/cs589/lib/python3.10/site-packages (from transformers) (2023.12.25)\n",
      "Requirement already satisfied: requests in /opt/anaconda3/envs/cs589/lib/python3.10/site-packages (from transformers) (2.32.2)\n",
      "Requirement already satisfied: tokenizers<0.21,>=0.20 in /opt/anaconda3/envs/cs589/lib/python3.10/site-packages (from transformers) (0.20.3)\n",
      "Requirement already satisfied: safetensors>=0.4.1 in /opt/anaconda3/envs/cs589/lib/python3.10/site-packages (from transformers) (0.4.5)\n",
      "Requirement already satisfied: tqdm>=4.27 in /opt/anaconda3/envs/cs589/lib/python3.10/site-packages (from transformers) (4.66.2)\n",
      "Requirement already satisfied: fsspec>=2023.5.0 in /opt/anaconda3/envs/cs589/lib/python3.10/site-packages (from huggingface-hub<1.0,>=0.23.2->transformers) (2024.10.0)\n",
      "Requirement already satisfied: typing-extensions>=3.7.4.3 in /opt/anaconda3/envs/cs589/lib/python3.10/site-packages (from huggingface-hub<1.0,>=0.23.2->transformers) (4.12.2)\n",
      "Requirement already satisfied: charset-normalizer<4,>=2 in /opt/anaconda3/envs/cs589/lib/python3.10/site-packages (from requests->transformers) (3.3.2)\n",
      "Requirement already satisfied: idna<4,>=2.5 in /opt/anaconda3/envs/cs589/lib/python3.10/site-packages (from requests->transformers) (3.7)\n",
      "Requirement already satisfied: urllib3<3,>=1.21.1 in /opt/anaconda3/envs/cs589/lib/python3.10/site-packages (from requests->transformers) (2.2.1)\n",
      "Requirement already satisfied: certifi>=2017.4.17 in /opt/anaconda3/envs/cs589/lib/python3.10/site-packages (from requests->transformers) (2024.7.4)\n"
     ]
    }
   ],
   "source": [
    "!pip install torch\n",
    "!pip install transformers"
   ]
  },
  {
   "cell_type": "code",
   "execution_count": 3,
   "id": "9071ab68-deef-48b8-b30f-cc778d7f3783",
   "metadata": {},
   "outputs": [],
   "source": [
    "import pandas as pd\n",
    "import os\n",
    "import random\n",
    "os.environ[\"KMP_DUPLICATE_LIB_OK\"] = \"TRUE\" # needed for making torch work?\n",
    "import torch\n",
    "from transformers import DistilBertTokenizer, DistilBertModel"
   ]
  },
  {
   "cell_type": "code",
   "execution_count": 3,
   "id": "e8991aa8-163b-461a-8896-c8f0abc83b86",
   "metadata": {},
   "outputs": [],
   "source": [
    "# Read authentication keys from environmental variables\n",
    "_open_ai_tkn = os.environ.get('OPENAI_KEY')\n",
    "_project_tkn = os.environ.get('OPENAI_PROJECT')\n",
    "_organisation_tkn = os.environ.get('OPENAI_ORG')"
   ]
  },
  {
   "cell_type": "code",
   "execution_count": 4,
   "id": "b4801857-7d45-40dd-be15-73d2779d5407",
   "metadata": {},
   "outputs": [],
   "source": [
    "splits = {'train': 'training.csv', 'test': 'test.csv'}\n",
    "df = pd.read_csv(\"hf://datasets/Annanay/aml_song_lyrics_balanced/\" + splits[\"train\"])"
   ]
  },
  {
   "cell_type": "code",
   "execution_count": 15,
   "id": "a05b3bed-9888-4f7e-8b12-f09b86b81da0",
   "metadata": {},
   "outputs": [],
   "source": [
    "from openai import OpenAI\n",
    "\n",
    "client = OpenAI(\n",
    "  organization=_organisation_tkn,\n",
    "  project=_project_tkn,\n",
    "  api_key=_open_ai_tkn\n",
    ")"
   ]
  },
  {
   "cell_type": "code",
   "execution_count": 1,
   "id": "e33207c8-f74b-44d2-9bd1-a8876322ccf9",
   "metadata": {},
   "outputs": [],
   "source": [
    "def prompt_song(test_song):\n",
    "    test_song_lines = test_song.split('\\n')\n",
    "    test_song_lines = [s for s in test_song_lines if len(s) > 0]\n",
    "    old_lines = []\n",
    "    new_lines = []\n",
    "    for i in range(0, len(test_song_lines) - 7):\n",
    "        question = \"Please write a unique one-line lyric between these two stanzas of three lines: \\n\"\n",
    "        group_1 = '\\n'.join(test_song_lines[i:i+3])\n",
    "        group_2 = '\\n'.join(test_song_lines[i+4: i+7])\n",
    "        prompt = f\"{question}{group_1}\\n\\n{group_2}\\n\"\n",
    "        #print(prompt)\n",
    "        response = client.chat.completions.create(\n",
    "            messages=[{\n",
    "                \"role\": \"user\",\n",
    "                \"content\": prompt\n",
    "            }],\n",
    "            model=\"gpt-4o-mini\",\n",
    "            max_completion_tokens=100\n",
    "        )\n",
    "        new_line = response.choices[0].message.content.split('\\n')[0] # parsing the output\n",
    "        old_lines.append(test_song_lines[i+3])\n",
    "        new_lines.append(new_line)\n",
    "    return new_lines, old_lines"
   ]
  },
  {
   "cell_type": "code",
   "execution_count": 10,
   "id": "7e9dc8f6-19df-413c-9ede-8451e5e29e35",
   "metadata": {
    "scrolled": true
   },
   "outputs": [
    {
     "ename": "NameError",
     "evalue": "name 'prompt_song' is not defined",
     "output_type": "error",
     "traceback": [
      "\u001b[0;31m---------------------------------------------------------------------------\u001b[0m",
      "\u001b[0;31mNameError\u001b[0m                                 Traceback (most recent call last)",
      "Cell \u001b[0;32mIn[10], line 4\u001b[0m\n\u001b[1;32m      1\u001b[0m test_song1 \u001b[38;5;241m=\u001b[39m \u001b[38;5;124m'\u001b[39m\u001b[38;5;124mIn this green and pleasant land\u001b[39m\u001b[38;5;130;01m\\n\u001b[39;00m\u001b[38;5;124mWe have a dream to understand\u001b[39m\u001b[38;5;130;01m\\n\u001b[39;00m\u001b[38;5;124mIn the mountains of the mind\u001b[39m\u001b[38;5;130;01m\\n\u001b[39;00m\u001b[38;5;124mThere is a spirit you will find\u001b[39m\u001b[38;5;130;01m\\n\u001b[39;00m\u001b[38;5;124mJust like the angel from above\u001b[39m\u001b[38;5;130;01m\\n\u001b[39;00m\u001b[38;5;124mSent to deliver words of love\u001b[39m\u001b[38;5;130;01m\\n\u001b[39;00m\u001b[38;5;124mAncient cross and Zion star\u001b[39m\u001b[38;5;130;01m\\n\u001b[39;00m\u001b[38;5;124mEastern ways and praise to Jah\u001b[39m\u001b[38;5;130;01m\\n\u001b[39;00m\u001b[38;5;130;01m\\n\u001b[39;00m\u001b[38;5;124mThis is our land\u001b[39m\u001b[38;5;130;01m\\n\u001b[39;00m\u001b[38;5;124mThis is your land\u001b[39m\u001b[38;5;130;01m\\n\u001b[39;00m\u001b[38;5;124mThis is our inheritance\u001b[39m\u001b[38;5;130;01m\\n\u001b[39;00m\u001b[38;5;124mTo lead you on a merry dance\u001b[39m\u001b[38;5;130;01m\\n\u001b[39;00m\u001b[38;5;124mIn the beginning there was light\u001b[39m\u001b[38;5;130;01m\\n\u001b[39;00m\u001b[38;5;124mShining path and journeys bright\u001b[39m\u001b[38;5;130;01m\\n\u001b[39;00m\u001b[38;5;124mWhen the nations pray as one\u001b[39m\u001b[38;5;130;01m\\n\u001b[39;00m\u001b[38;5;124mThen will the races all be won\u001b[39m\u001b[38;5;130;01m\\n\u001b[39;00m\u001b[38;5;124mIn this green and pleasant land\u001b[39m\u001b[38;5;130;01m\\n\u001b[39;00m\u001b[38;5;124mWe have a dream to understand\u001b[39m\u001b[38;5;130;01m\\n\u001b[39;00m\u001b[38;5;124mOpen paradises gate\u001b[39m\u001b[38;5;130;01m\\n\u001b[39;00m\u001b[38;5;124mDance on the land and celebrate\u001b[39m\u001b[38;5;130;01m\\n\u001b[39;00m\u001b[38;5;130;01m\\n\u001b[39;00m\u001b[38;5;124mSay no matter what your colour\u001b[39m\u001b[38;5;130;01m\\n\u001b[39;00m\u001b[38;5;124mYour race or your culture\u001b[39m\u001b[38;5;130;01m\\n\u001b[39;00m\u001b[38;5;124mThis is our inheritance\u001b[39m\u001b[38;5;130;01m\\n\u001b[39;00m\u001b[38;5;124mTo lead you on a merry dance\u001b[39m\u001b[38;5;124m'\u001b[39m\n\u001b[1;32m      2\u001b[0m test_song2 \u001b[38;5;241m=\u001b[39m \u001b[38;5;124m\"\u001b[39m\u001b[38;5;124mLove and happiness...\u001b[39m\u001b[38;5;130;01m\\n\u001b[39;00m\u001b[38;5;124mSomething that can make you do wrong, make you do right...\u001b[39m\u001b[38;5;130;01m\\n\u001b[39;00m\u001b[38;5;124mLove...\u001b[39m\u001b[38;5;130;01m\\n\u001b[39;00m\u001b[38;5;130;01m\\n\u001b[39;00m\u001b[38;5;124mLove and happiness\u001b[39m\u001b[38;5;130;01m\\n\u001b[39;00m\u001b[38;5;124mWait a minute...\u001b[39m\u001b[38;5;130;01m\\n\u001b[39;00m\u001b[38;5;124mSomething\u001b[39m\u001b[38;5;124m'\u001b[39m\u001b[38;5;124ms going wrong\u001b[39m\u001b[38;5;130;01m\\n\u001b[39;00m\u001b[38;5;124mSomeone\u001b[39m\u001b[38;5;124m'\u001b[39m\u001b[38;5;124ms on the phone\u001b[39m\u001b[38;5;130;01m\\n\u001b[39;00m\u001b[38;5;124mThree o\u001b[39m\u001b[38;5;124m'\u001b[39m\u001b[38;5;124mclock in the morning\u001b[39m\u001b[38;5;130;01m\\n\u001b[39;00m\u001b[38;5;124mTalkin\u001b[39m\u001b[38;5;124m'\u001b[39m\u001b[38;5;124m about how she can make it right\u001b[39m\u001b[38;5;130;01m\\n\u001b[39;00m\u001b[38;5;124mWell\u001b[39m\u001b[38;5;130;01m\\n\u001b[39;00m\u001b[38;5;124mHappiness is when you really feel good with somebody\u001b[39m\u001b[38;5;130;01m\\n\u001b[39;00m\u001b[38;5;124mNothing wrong with being in one with someone\u001b[39m\u001b[38;5;130;01m\\n\u001b[39;00m\u001b[38;5;124mOh, baby, love and happiness\u001b[39m\u001b[38;5;130;01m\\n\u001b[39;00m\u001b[38;5;124mLove and happiness...\u001b[39m\u001b[38;5;130;01m\\n\u001b[39;00m\u001b[38;5;124mLove and happiness...\u001b[39m\u001b[38;5;130;01m\\n\u001b[39;00m\u001b[38;5;124mLove and happiness\u001b[39m\u001b[38;5;130;01m\\n\u001b[39;00m\u001b[38;5;124mYou be good to me\u001b[39m\u001b[38;5;130;01m\\n\u001b[39;00m\u001b[38;5;124mI\u001b[39m\u001b[38;5;124m'\u001b[39m\u001b[38;5;124mll be good to you\u001b[39m\u001b[38;5;130;01m\\n\u001b[39;00m\u001b[38;5;124mWe\u001b[39m\u001b[38;5;124m'\u001b[39m\u001b[38;5;124mll be together\u001b[39m\u001b[38;5;130;01m\\n\u001b[39;00m\u001b[38;5;124mWe\u001b[39m\u001b[38;5;124m'\u001b[39m\u001b[38;5;124mll see each other\u001b[39m\u001b[38;5;130;01m\\n\u001b[39;00m\u001b[38;5;124mWalk away with victory\u001b[39m\u001b[38;5;130;01m\\n\u001b[39;00m\u001b[38;5;124mOh baby\u001b[39m\u001b[38;5;130;01m\\n\u001b[39;00m\u001b[38;5;124mLove and happiness...\u001b[39m\u001b[38;5;130;01m\\n\u001b[39;00m\u001b[38;5;124mLove and happiness...\u001b[39m\u001b[38;5;130;01m\\n\u001b[39;00m\u001b[38;5;130;01m\\n\u001b[39;00m\u001b[38;5;124mMake you do right... love\u001b[39m\u001b[38;5;124m'\u001b[39m\u001b[38;5;124mll make you do wrong...\u001b[39m\u001b[38;5;130;01m\\n\u001b[39;00m\u001b[38;5;124mMake you come home early...\u001b[39m\u001b[38;5;130;01m\\n\u001b[39;00m\u001b[38;5;124mMake you stay out all night long...\u001b[39m\u001b[38;5;130;01m\\n\u001b[39;00m\u001b[38;5;124mThe power of love...\u001b[39m\u001b[38;5;130;01m\\n\u001b[39;00m\u001b[38;5;130;01m\\n\u001b[39;00m\u001b[38;5;124mWait a minute\u001b[39m\u001b[38;5;130;01m\\n\u001b[39;00m\u001b[38;5;124mLet me tell you...\u001b[39m\u001b[38;5;130;01m\\n\u001b[39;00m\u001b[38;5;124mThe power of love...\u001b[39m\u001b[38;5;130;01m\\n\u001b[39;00m\u001b[38;5;124mMake you do right... love\u001b[39m\u001b[38;5;124m'\u001b[39m\u001b[38;5;124mll make you do wrong...\u001b[39m\u001b[38;5;130;01m\\n\u001b[39;00m\u001b[38;5;124mMake you want to dance...\u001b[39m\u001b[38;5;130;01m\\n\u001b[39;00m\u001b[38;5;124mLove and happiness...\u001b[39m\u001b[38;5;130;01m\\n\u001b[39;00m\u001b[38;5;124mLove and happiness...\u001b[39m\u001b[38;5;130;01m\\n\u001b[39;00m\u001b[38;5;130;01m\\n\u001b[39;00m\u001b[38;5;124mLove is... wait a minute... love is...\u001b[39m\u001b[38;5;130;01m\\n\u001b[39;00m\u001b[38;5;124mWalkin\u001b[39m\u001b[38;5;124m'\u001b[39m\u001b[38;5;124m together...\u001b[39m\u001b[38;5;130;01m\\n\u001b[39;00m\u001b[38;5;124mTalkin\u001b[39m\u001b[38;5;124m'\u001b[39m\u001b[38;5;124m together...\u001b[39m\u001b[38;5;130;01m\\n\u001b[39;00m\u001b[38;5;124mSay it again...\u001b[39m\u001b[38;5;130;01m\\n\u001b[39;00m\u001b[38;5;124mSay it together...\u001b[39m\u001b[38;5;130;01m\\n\u001b[39;00m\u001b[38;5;124mMmmm....\u001b[39m\u001b[38;5;124m\"\u001b[39m\n\u001b[0;32m----> 4\u001b[0m new_lines, old_lines \u001b[38;5;241m=\u001b[39m \u001b[43mprompt_song\u001b[49m(test_song1)\n",
      "\u001b[0;31mNameError\u001b[0m: name 'prompt_song' is not defined"
     ]
    }
   ],
   "source": [
    "test_song1 = 'In this green and pleasant land\\nWe have a dream to understand\\nIn the mountains of the mind\\nThere is a spirit you will find\\nJust like the angel from above\\nSent to deliver words of love\\nAncient cross and Zion star\\nEastern ways and praise to Jah\\n\\nThis is our land\\nThis is your land\\nThis is our inheritance\\nTo lead you on a merry dance\\nIn the beginning there was light\\nShining path and journeys bright\\nWhen the nations pray as one\\nThen will the races all be won\\nIn this green and pleasant land\\nWe have a dream to understand\\nOpen paradises gate\\nDance on the land and celebrate\\n\\nSay no matter what your colour\\nYour race or your culture\\nThis is our inheritance\\nTo lead you on a merry dance'\n",
    "test_song2 = \"Love and happiness...\\nSomething that can make you do wrong, make you do right...\\nLove...\\n\\nLove and happiness\\nWait a minute...\\nSomething's going wrong\\nSomeone's on the phone\\nThree o'clock in the morning\\nTalkin' about how she can make it right\\nWell\\nHappiness is when you really feel good with somebody\\nNothing wrong with being in one with someone\\nOh, baby, love and happiness\\nLove and happiness...\\nLove and happiness...\\nLove and happiness\\nYou be good to me\\nI'll be good to you\\nWe'll be together\\nWe'll see each other\\nWalk away with victory\\nOh baby\\nLove and happiness...\\nLove and happiness...\\n\\nMake you do right... love'll make you do wrong...\\nMake you come home early...\\nMake you stay out all night long...\\nThe power of love...\\n\\nWait a minute\\nLet me tell you...\\nThe power of love...\\nMake you do right... love'll make you do wrong...\\nMake you want to dance...\\nLove and happiness...\\nLove and happiness...\\n\\nLove is... wait a minute... love is...\\nWalkin' together...\\nTalkin' together...\\nSay it again...\\nSay it together...\\nMmmm....\"\n",
    "\n",
    "new_lines, old_lines = prompt_song(test_song1)"
   ]
  },
  {
   "cell_type": "code",
   "execution_count": null,
   "id": "f813d841-4892-4599-987e-aff78e1f0e56",
   "metadata": {},
   "outputs": [],
   "source": [
    "import torch\n",
    "from torch.nn.functional import cosine_similarity\n",
    "\n",
    "# Load pre-trained model tokenizer and model\n",
    "tokenizer = DistilBertTokenizer.from_pretrained('distilbert-base-uncased')\n",
    "model = DistilBertModel.from_pretrained('distilbert-base-uncased')\n",
    "\n",
    "def encode_sentences(sentences):\n",
    "    inputs = tokenizer(sentences, padding=True, truncation=True, return_tensors='pt')\n",
    "    return inputs\n",
    "\n",
    "def get_embeddings(sentences):\n",
    "    inputs = encode_sentences(sentences)\n",
    "    with torch.no_grad():\n",
    "        outputs = model(**inputs)\n",
    "    cls_embeddings = outputs.last_hidden_state[:, 0, :]  # Get the [CLS] token embeddings\n",
    "    return cls_embeddings\n",
    "\n",
    "def compute_similarity(sentence1, sentence2):\n",
    "    embeddings = get_embeddings([sentence1, sentence2])\n",
    "    similarity = cosine_similarity(embeddings[0].unsqueeze(0), embeddings[1].unsqueeze(0))\n",
    "    return similarity.item()\n",
    "\n",
    "# Example sentences\n",
    "print(tokenizer)\n",
    "sentence1 = \"I love playing football.\"\n",
    "sentence2 = \"I enjoy playing soccer.\"\n",
    "similarity_score = compute_similarity(sentence1, sentence2)\n",
    "print(f\"Semantic Similarity Score: {similarity_score:.4f}\")"
   ]
  },
  {
   "cell_type": "code",
   "execution_count": null,
   "id": "c23c25ba-5446-4dce-89db-6eba8a17d6e7",
   "metadata": {},
   "outputs": [],
   "source": [
    "# compute semantic similarities of new and old sentences\n",
    "similarities = []\n",
    "for (s_new, s_old) in zip(new_lines, old_lines):\n",
    "    similarities.append(compute_similarity(s_new, s_old))\n",
    "similarities = np.array(similarities)\n",
    "print(f'semantic similarity of {len(similarities)} generated sentences: \\n mean: {np.mean(similarities)} \\n std: {np.std(similarities)}')"
   ]
  }
 ],
 "metadata": {
  "kernelspec": {
   "display_name": "Python 3 (ipykernel)",
   "language": "python",
   "name": "python3"
  },
  "language_info": {
   "codemirror_mode": {
    "name": "ipython",
    "version": 3
   },
   "file_extension": ".py",
   "mimetype": "text/x-python",
   "name": "python",
   "nbconvert_exporter": "python",
   "pygments_lexer": "ipython3",
   "version": "3.10.13"
  }
 },
 "nbformat": 4,
 "nbformat_minor": 5
}
